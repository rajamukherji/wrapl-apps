{
 "cells": [
  {
   "cell_type": "code",
   "execution_count": 1,
   "metadata": {},
   "outputs": [
    {
     "data": {
      "text/plain": [
       "NIL"
      ]
     },
     "execution_count": 1,
     "metadata": {},
     "output_type": "execute_result"
    }
   ],
   "source": [
    "IMP .Xe;\n",
    "IMP IO.File;"
   ]
  },
  {
   "cell_type": "code",
   "execution_count": null,
   "metadata": {},
   "outputs": [],
   "source": [
    "VAR test <- >>EOI\n",
    "<document\n",
    "\ttitle=\"Title\"\n",
    "|\n",
    "<do:\n",
    "\tIMP IO.Terminal USE Out;\n",
    "\tOut:write(\"Hello world\");\n",
    ">\n",
    "<include file=\"utils.xe\">\n",
    "\n",
    "<define name=\"test\"|\n",
    "\t<text|<do:\n",
    "\t\tALL <inline style=<$200>:Inline> | content:values:upper;\n",
    "\t>>\n",
    ">\n",
    "\n",
    "<for var=\"x\" from=1 to=10|\n",
    "\t<test:x = <$x>>\n",
    ">\n",
    "\n",
    "<test colour=\"red\":Hello world>\n",
    "\n",
    "<graph:\n",
    "\tA -\\> B;\n",
    "\tB -\\> C;\n",
    ">\n",
    "\n",
    "<math:x ^ 2 + 7 * x - 1>\n",
    "\n",
    "<list|\n",
    "\t<item:Item 1>\n",
    "\t<item:Item 2>\n",
    ">\n",
    ">\n",
    "EOI;"
   ]
  },
  {
   "cell_type": "code",
   "execution_count": null,
   "metadata": {
    "scrolled": false
   },
   "outputs": [],
   "source": [
    "VAR document <- Xe.LoadString(test);"
   ]
  },
  {
   "cell_type": "code",
   "execution_count": null,
   "metadata": {
    "scrolled": false
   },
   "outputs": [],
   "source": [
    "VAR expanded <- Xe.Expand(document);"
   ]
  },
  {
   "cell_type": "code",
   "execution_count": 2,
   "metadata": {},
   "outputs": [
    {
     "data": {
      "text/html": [
       "<span>()</span>"
      ],
      "text/plain": [
       "<object>"
      ]
     },
     "execution_count": 2,
     "metadata": {},
     "output_type": "execute_result"
    }
   ],
   "source": [
    "VAR test <- File.Open(\"test.xe\", File.Flag.Read);"
   ]
  },
  {
   "cell_type": "code",
   "execution_count": 3,
   "metadata": {},
   "outputs": [
    {
     "name": "stdout",
     "output_type": "stream",
     "text": [
      "Hello world"
     ]
    },
    {
     "data": {
      "text/html": [
       "<span>(<i>tag: </i>document<i>, attributes: </i><ul><li><b>title: </b><span>(<i>tag: </i>b<i>, attributes: </i><ul/><i>, content: </i><ol><li>&quot;Title&quot;</li></ol>)</span></li></ul><i>, content: </i><ol><li><span>(<i>tag: </i>span<i>, attributes: </i><ul><li><b>colour: </b>blue</li></ul><i>, content: </i><ol><li>x = 1, y = 1</li></ol>)</span></li><li><span>(<i>tag: </i>span<i>, attributes: </i><ul><li><b>colour: </b>blue</li></ul><i>, content: </i><ol><li>x = 1, y = 2</li></ol>)</span></li><li><span>(<i>tag: </i>span<i>, attributes: </i><ul><li><b>colour: </b>blue</li></ul><i>, content: </i><ol><li>x = 1, y = 3</li></ol>)</span></li><li><span>(<i>tag: </i>span<i>, attributes: </i><ul><li><b>colour: </b>blue</li></ul><i>, content: </i><ol><li>x = 1, y = 4</li></ol>)</span></li><li><span>(<i>tag: </i>span<i>, attributes: </i><ul><li><b>colour: </b>blue</li></ul><i>, content: </i><ol><li>x = 1, y = 5</li></ol>)</span></li><li><span>(<i>tag: </i>span<i>, attributes: </i><ul><li><b>colour: </b>blue</li></ul><i>, content: </i><ol><li>x = 1, y = 6</li></ol>)</span></li><li><span>(<i>tag: </i>span<i>, attributes: </i><ul><li><b>colour: </b>blue</li></ul><i>, content: </i><ol><li>x = 1, y = 7</li></ol>)</span></li><li><span>(<i>tag: </i>span<i>, attributes: </i><ul><li><b>colour: </b>blue</li></ul><i>, content: </i><ol><li>x = 1, y = 8</li></ol>)</span></li><li><span>(<i>tag: </i>span<i>, attributes: </i><ul><li><b>colour: </b>blue</li></ul><i>, content: </i><ol><li>x = 2, y = 2</li></ol>)</span></li><li><span>(<i>tag: </i>span<i>, attributes: </i><ul><li><b>colour: </b>blue</li></ul><i>, content: </i><ol><li>x = 2, y = 3</li></ol>)</span></li><li><span>(<i>tag: </i>span<i>, attributes: </i><ul><li><b>colour: </b>blue</li></ul><i>, content: </i><ol><li>x = 2, y = 4</li></ol>)</span></li><li><span>(<i>tag: </i>span<i>, attributes: </i><ul><li><b>colour: </b>blue</li></ul><i>, content: </i><ol><li>x = 2, y = 5</li></ol>)</span></li><li><span>(<i>tag: </i>span<i>, attributes: </i><ul><li><b>colour: </b>blue</li></ul><i>, content: </i><ol><li>x = 2, y = 6</li></ol>)</span></li><li><span>(<i>tag: </i>span<i>, attributes: </i><ul><li><b>colour: </b>blue</li></ul><i>, content: </i><ol><li>x = 2, y = 7</li></ol>)</span></li><li><span>(<i>tag: </i>span<i>, attributes: </i><ul><li><b>colour: </b>blue</li></ul><i>, content: </i><ol><li>x = 2, y = 8</li></ol>)</span></li><li><span>(<i>tag: </i>span<i>, attributes: </i><ul><li><b>colour: </b>blue</li></ul><i>, content: </i><ol><li>x = 3, y = 3</li></ol>)</span></li><li><span>(<i>tag: </i>span<i>, attributes: </i><ul><li><b>colour: </b>blue</li></ul><i>, content: </i><ol><li>x = 3, y = 4</li></ol>)</span></li><li><span>(<i>tag: </i>span<i>, attributes: </i><ul><li><b>colour: </b>blue</li></ul><i>, content: </i><ol><li>x = 3, y = 5</li></ol>)</span></li><li><span>(<i>tag: </i>span<i>, attributes: </i><ul><li><b>colour: </b>blue</li></ul><i>, content: </i><ol><li>x = 3, y = 6</li></ol>)</span></li><li><span>(<i>tag: </i>span<i>, attributes: </i><ul><li><b>colour: </b>blue</li></ul><i>, content: </i><ol><li>x = 3, y = 7</li></ol>)</span></li><li><span>(<i>tag: </i>span<i>, attributes: </i><ul><li><b>colour: </b>blue</li></ul><i>, content: </i><ol><li>x = 3, y = 8</li></ol>)</span></li><li><span>(<i>tag: </i>span<i>, attributes: </i><ul><li><b>colour: </b>blue</li></ul><i>, content: </i><ol><li>x = 4, y = 4</li></ol>)</span></li><li><span>(<i>tag: </i>span<i>, attributes: </i><ul><li><b>colour: </b>blue</li></ul><i>, content: </i><ol><li>x = 4, y = 5</li></ol>)</span></li><li><span>(<i>tag: </i>span<i>, attributes: </i><ul><li><b>colour: </b>blue</li></ul><i>, content: </i><ol><li>x = 4, y = 6</li></ol>)</span></li><li><span>(<i>tag: </i>span<i>, attributes: </i><ul><li><b>colour: </b>blue</li></ul><i>, content: </i><ol><li>x = 4, y = 7</li></ol>)</span></li><li><span>(<i>tag: </i>span<i>, attributes: </i><ul><li><b>colour: </b>blue</li></ul><i>, content: </i><ol><li>x = 4, y = 8</li></ol>)</span></li><li><span>(<i>tag: </i>span<i>, attributes: </i><ul><li><b>colour: </b>blue</li></ul><i>, content: </i><ol><li>Hello world</li></ol>)</span></li><li><span>(<i>tag: </i>node<i>, attributes: </i><ul><li><b>name: </b>N1</li></ul><i>, content: </i><ol><li>FALSE</li></ol>)</span></li><li><span>(<i>tag: </i>node<i>, attributes: </i><ul><li><b>name: </b>N2</li></ul><i>, content: </i><ol><li>FALSE</li></ol>)</span></li><li><span>(<i>tag: </i>node<i>, attributes: </i><ul><li><b>name: </b>N3</li></ul><i>, content: </i><ol><li>FALSE</li></ol>)</span></li><li><span>(<i>tag: </i>node<i>, attributes: </i><ul><li><b>name: </b>N4</li></ul><i>, content: </i><ol><li>FALSE</li></ol>)</span></li><li><span>(<i>tag: </i>node<i>, attributes: </i><ul><li><b>name: </b>N5</li></ul><i>, content: </i><ol><li>TRUE</li></ol>)</span></li><li><span>(<i>tag: </i>node<i>, attributes: </i><ul><li><b>name: </b>N6</li></ul><i>, content: </i><ol><li>FALSE</li></ol>)</span></li><li><span>(<i>tag: </i>node<i>, attributes: </i><ul><li><b>name: </b>N7</li></ul><i>, content: </i><ol><li>FALSE</li></ol>)</span></li><li><span>(<i>tag: </i>node<i>, attributes: </i><ul><li><b>name: </b>N8</li></ul><i>, content: </i><ol><li>FALSE</li></ol>)</span></li><li><span>(<i>tag: </i>node<i>, attributes: </i><ul><li><b>name: </b>N9</li></ul><i>, content: </i><ol><li>FALSE</li></ol>)</span></li><li><span>(<i>tag: </i>node<i>, attributes: </i><ul><li><b>name: </b>N10</li></ul><i>, content: </i><ol><li>FALSE</li></ol>)</span></li><li><span>(<i>tag: </i>node<i>, attributes: </i><ul><li><b>name: </b>N5</li></ul><i>, content: </i><ol><li>BLAH</li></ol>)</span></li><li><span>(<i>tag: </i>span<i>, attributes: </i><ul><li><b>colour: </b>blue</li></ul><i>, content: </i><ol><li>Hello</li></ol>)</span></li></ol>)</span>"
      ],
      "text/plain": [
       "<object>"
      ]
     },
     "execution_count": 3,
     "metadata": {},
     "output_type": "execute_result"
    }
   ],
   "source": [
    "VAR document <- Xe.Load(test);"
   ]
  },
  {
   "cell_type": "code",
   "execution_count": null,
   "metadata": {},
   "outputs": [],
   "source": [
    "test:close;"
   ]
  },
  {
   "cell_type": "code",
   "execution_count": null,
   "metadata": {},
   "outputs": [],
   "source": [
    "Xe.Defines:size;"
   ]
  },
  {
   "cell_type": "code",
   "execution_count": null,
   "metadata": {},
   "outputs": [],
   "source": [
    "IMP .XHTMLRenderer;"
   ]
  },
  {
   "cell_type": "code",
   "execution_count": null,
   "metadata": {},
   "outputs": [],
   "source": [
    "XHTMLRenderer.RenderNode(expanded);"
   ]
  },
  {
   "cell_type": "code",
   "execution_count": null,
   "metadata": {},
   "outputs": [],
   "source": []
  }
 ],
 "metadata": {
  "kernelspec": {
   "display_name": "Wrapl",
   "language": "wrapl",
   "name": "wrapl"
  },
  "language_info": {
   "file_extension": ".wrapl",
   "mimetype": "text/x-wrapl",
   "name": "wrapl",
   "version": "0.0.0"
  }
 },
 "nbformat": 4,
 "nbformat_minor": 2
}
