{
 "cells": [
  {
   "cell_type": "code",
   "execution_count": null,
   "metadata": {},
   "outputs": [],
   "source": [
    "IMP .Xe;\n",
    "IMP IO.File;"
   ]
  },
  {
   "cell_type": "code",
   "execution_count": null,
   "metadata": {},
   "outputs": [],
   "source": [
    "Xe.LoadString(\"<test x=10:Hello>\");"
   ]
  },
  {
   "cell_type": "code",
   "execution_count": null,
   "metadata": {},
   "outputs": [],
   "source": [
    "VAR test <- >>EOI\n",
    "<document\n",
    "\ttitle=\"Title\"\n",
    "|\n",
    "<do:\n",
    "\tIMP IO.Terminal USE Out;\n",
    "\tOut:write(\"Hello world\");\n",
    ">\n",
    "<include file=\"utils.xe\">\n",
    "\n",
    "<define name=\"test\"|\n",
    "\t<text|<do:\n",
    "\t\tALL <inline style=<$200>:Inline> | content:values:upper;\n",
    "\t>>\n",
    ">\n",
    "\n",
    "<for var=\"x\" from=1 to=10|\n",
    "\t<test:x = <$x>>\n",
    ">\n",
    "\n",
    "<test colour=\"red\":Hello world>\n",
    "\n",
    "<graph:\n",
    "\tA -\\> B;\n",
    "\tB -\\> C;\n",
    ">\n",
    "\n",
    "<math:x ^ 2 + 7 * x - 1>\n",
    "\n",
    "<list|\n",
    "\t<item:Item 1>\n",
    "\t<item:Item 2>\n",
    ">\n",
    ">\n",
    "EOI;"
   ]
  },
  {
   "cell_type": "code",
   "execution_count": null,
   "metadata": {
    "scrolled": false
   },
   "outputs": [],
   "source": [
    "VAR document <- Xe.LoadString(test);"
   ]
  },
  {
   "cell_type": "code",
   "execution_count": null,
   "metadata": {
    "scrolled": false
   },
   "outputs": [],
   "source": [
    "VAR expanded <- Xe.Expand(document);"
   ]
  },
  {
   "cell_type": "code",
   "execution_count": null,
   "metadata": {},
   "outputs": [],
   "source": [
    "VAR test <- File.Open(\"test.xe\", File.Flag.Read);"
   ]
  },
  {
   "cell_type": "code",
   "execution_count": null,
   "metadata": {},
   "outputs": [],
   "source": [
    "VAR document <- Xe.Load(test);"
   ]
  },
  {
   "cell_type": "code",
   "execution_count": null,
   "metadata": {},
   "outputs": [],
   "source": [
    "test:close;"
   ]
  },
  {
   "cell_type": "code",
   "execution_count": null,
   "metadata": {},
   "outputs": [],
   "source": [
    "Xe.Defines:size;"
   ]
  },
  {
   "cell_type": "code",
   "execution_count": null,
   "metadata": {},
   "outputs": [],
   "source": [
    "IMP .XHTMLRenderer;"
   ]
  },
  {
   "cell_type": "code",
   "execution_count": null,
   "metadata": {},
   "outputs": [],
   "source": [
    "XHTMLRenderer.RenderNode(expanded);"
   ]
  },
  {
   "cell_type": "code",
   "execution_count": null,
   "metadata": {},
   "outputs": [],
   "source": [
    "ALL UNIQ -10:to(10) ^ 2;"
   ]
  },
  {
   "cell_type": "code",
   "execution_count": 1,
   "metadata": {},
   "outputs": [
    {
     "data": {
      "text/html": [
       "<ul><li><b>1: </b>1</li><li><b>2: </b>4</li><li><b>3: </b>9</li><li><b>4: </b>16</li><li><b>5: </b>25</li><li><b>6: </b>36</li><li><b>7: </b>49</li><li><b>8: </b>64</li><li><b>9: </b>81</li><li><b>10: </b>100</li></ul>"
      ],
      "text/plain": [
       "{1 is 1, 2 is 4, 3 is 9, 4 is 16, 5 is 25, 6 is 36, 7 is 49, 8 is 64, 9 is 81, 10 is 100}"
      ]
     },
     "execution_count": 1,
     "metadata": {},
     "output_type": "execute_result"
    }
   ],
   "source": [
    "MAP 1:to(10) TO $ ^ 2;"
   ]
  },
  {
   "cell_type": "code",
   "execution_count": null,
   "metadata": {},
   "outputs": [],
   "source": [
    "SUM \"banana\":chars;"
   ]
  },
  {
   "cell_type": "code",
   "execution_count": null,
   "metadata": {},
   "outputs": [],
   "source": [
    "SUM UNIQ \"banana\":chars;"
   ]
  },
  {
   "cell_type": "code",
   "execution_count": null,
   "metadata": {},
   "outputs": [],
   "source": [
    "MAP "
   ]
  }
 ],
 "metadata": {
  "kernelspec": {
   "display_name": "Wrapl",
   "language": "wrapl",
   "name": "wrapl"
  },
  "language_info": {
   "file_extension": ".wrapl",
   "mimetype": "text/x-wrapl",
   "name": "wrapl",
   "version": "0.0.0"
  }
 },
 "nbformat": 4,
 "nbformat_minor": 2
}
