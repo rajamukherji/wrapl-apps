{
 "cells": [
  {
   "cell_type": "code",
   "execution_count": 1,
   "metadata": {},
   "outputs": [
    {
     "data": {
      "text/plain": [
       "NIL"
      ]
     },
     "execution_count": 1,
     "metadata": {},
     "output_type": "execute_result"
    }
   ],
   "source": [
    "IMP .Xe;\n",
    "IMP IO.File;"
   ]
  },
  {
   "cell_type": "code",
   "execution_count": 2,
   "metadata": {},
   "outputs": [
    {
     "data": {
      "text/plain": [
       "<document\n",
       "\ttitle=\"Title\"\n",
       "|\n",
       "<do:\n",
       "\tIMP IO.Terminal USE Out;\n",
       "\tOut:write(\"Hello world\");\n",
       ">\n",
       "<include file=\"utils.xe\">\n",
       "\n",
       "<define name=\"test\"|\n",
       "\t<text|<do:\n",
       "\t\tALL <inline style=<$200>:Inline> | content:values:upper;\n",
       "\t>>\n",
       ">\n",
       "\n",
       "<for var=\"x\" from=1 to=10|\n",
       "\t<test:x = <$x>>\n",
       ">\n",
       "\n",
       "<test colour=\"red\":Hello world>\n",
       "\n",
       "<graph:\n",
       "\tA -\\> B;\n",
       "\tB -\\> C;\n",
       ">\n",
       "\n",
       "<math:x ^ 2 + 7 * x - 1>\n",
       "\n",
       "<list|\n",
       "\t<item:Item 1>\n",
       "\t<item:Item 2>\n",
       ">\n",
       ">\n"
      ]
     },
     "execution_count": 2,
     "metadata": {},
     "output_type": "execute_result"
    }
   ],
   "source": [
    "VAR test <- >>EOI\n",
    "<document\n",
    "\ttitle=\"Title\"\n",
    "|\n",
    "<do:\n",
    "\tIMP IO.Terminal USE Out;\n",
    "\tOut:write(\"Hello world\");\n",
    ">\n",
    "<include file=\"utils.xe\">\n",
    "\n",
    "<define name=\"test\"|\n",
    "\t<text|<do:\n",
    "\t\tALL <inline style=<$200>:Inline> | content:values:upper;\n",
    "\t>>\n",
    ">\n",
    "\n",
    "<for var=\"x\" from=1 to=10|\n",
    "\t<test:x = <$x>>\n",
    ">\n",
    "\n",
    "<test colour=\"red\":Hello world>\n",
    "\n",
    "<graph:\n",
    "\tA -\\> B;\n",
    "\tB -\\> C;\n",
    ">\n",
    "\n",
    "<math:x ^ 2 + 7 * x - 1>\n",
    "\n",
    "<list|\n",
    "\t<item:Item 1>\n",
    "\t<item:Item 2>\n",
    ">\n",
    ">\n",
    "EOI;"
   ]
  },
  {
   "cell_type": "code",
   "execution_count": 3,
   "metadata": {
    "scrolled": false
   },
   "outputs": [
    {
     "name": "stdout",
     "output_type": "stream",
     "text": [
      "Hello world"
     ]
    },
    {
     "data": {
      "text/html": [
       "<span>(<i>tag: </i>document<i>, attributes: </i><ul><li><b>title: </b>Title</li></ul><i>, content: </i><ol><li><span>(<i>tag: </i>text<i>, attributes: </i><ul/><i>, content: </i><ol><li><span>(<i>tag: </i>inline<i>, attributes: </i><ul><li><b>style: </b>200</li></ul><i>, content: </i><ol><li>Inline</li></ol>)</span></li><li>X = 1</li></ol>)</span></li><li><span>(<i>tag: </i>text<i>, attributes: </i><ul/><i>, content: </i><ol><li><span>(<i>tag: </i>inline<i>, attributes: </i><ul><li><b>style: </b>200</li></ul><i>, content: </i><ol><li>Inline</li></ol>)</span></li><li>X = 2</li></ol>)</span></li><li><span>(<i>tag: </i>text<i>, attributes: </i><ul/><i>, content: </i><ol><li><span>(<i>tag: </i>inline<i>, attributes: </i><ul><li><b>style: </b>200</li></ul><i>, content: </i><ol><li>Inline</li></ol>)</span></li><li>X = 3</li></ol>)</span></li><li><span>(<i>tag: </i>text<i>, attributes: </i><ul/><i>, content: </i><ol><li><span>(<i>tag: </i>inline<i>, attributes: </i><ul><li><b>style: </b>200</li></ul><i>, content: </i><ol><li>Inline</li></ol>)</span></li><li>X = 4</li></ol>)</span></li><li><span>(<i>tag: </i>text<i>, attributes: </i><ul/><i>, content: </i><ol><li><span>(<i>tag: </i>inline<i>, attributes: </i><ul><li><b>style: </b>200</li></ul><i>, content: </i><ol><li>Inline</li></ol>)</span></li><li>X = 5</li></ol>)</span></li><li><span>(<i>tag: </i>text<i>, attributes: </i><ul/><i>, content: </i><ol><li><span>(<i>tag: </i>inline<i>, attributes: </i><ul><li><b>style: </b>200</li></ul><i>, content: </i><ol><li>Inline</li></ol>)</span></li><li>X = 6</li></ol>)</span></li><li><span>(<i>tag: </i>text<i>, attributes: </i><ul/><i>, content: </i><ol><li><span>(<i>tag: </i>inline<i>, attributes: </i><ul><li><b>style: </b>200</li></ul><i>, content: </i><ol><li>Inline</li></ol>)</span></li><li>X = 7</li></ol>)</span></li><li><span>(<i>tag: </i>text<i>, attributes: </i><ul/><i>, content: </i><ol><li><span>(<i>tag: </i>inline<i>, attributes: </i><ul><li><b>style: </b>200</li></ul><i>, content: </i><ol><li>Inline</li></ol>)</span></li><li>X = 8</li></ol>)</span></li><li><span>(<i>tag: </i>text<i>, attributes: </i><ul/><i>, content: </i><ol><li><span>(<i>tag: </i>inline<i>, attributes: </i><ul><li><b>style: </b>200</li></ul><i>, content: </i><ol><li>Inline</li></ol>)</span></li><li>X = 9</li></ol>)</span></li><li><span>(<i>tag: </i>text<i>, attributes: </i><ul/><i>, content: </i><ol><li><span>(<i>tag: </i>inline<i>, attributes: </i><ul><li><b>style: </b>200</li></ul><i>, content: </i><ol><li>Inline</li></ol>)</span></li><li>X = 10</li></ol>)</span></li><li><span>(<i>tag: </i>text<i>, attributes: </i><ul/><i>, content: </i><ol><li><span>(<i>tag: </i>inline<i>, attributes: </i><ul><li><b>style: </b>200</li></ul><i>, content: </i><ol><li>Inline</li></ol>)</span></li><li>HELLO WORLD</li></ol>)</span></li><li><span>(<i>tag: </i>graph<i>, attributes: </i><ul/><i>, content: </i><ol><li>\n",
       "\tA -&gt; B;\n",
       "\tB -&gt; C;\n",
       "</li></ol>)</span></li><li><span>(<i>tag: </i>math<i>, attributes: </i><ul/><i>, content: </i><ol><li>x ^ 2 + 7 * x - 1</li></ol>)</span></li><li><span>(<i>tag: </i>list<i>, attributes: </i><ul/><i>, content: </i><ol><li><span>(<i>tag: </i>item<i>, attributes: </i><ul/><i>, content: </i><ol><li>Item 1</li></ol>)</span></li><li><span>(<i>tag: </i>item<i>, attributes: </i><ul/><i>, content: </i><ol><li>Item 2</li></ol>)</span></li></ol>)</span></li></ol>)</span>"
      ],
      "text/plain": [
       "<object>"
      ]
     },
     "execution_count": 3,
     "metadata": {},
     "output_type": "execute_result"
    }
   ],
   "source": [
    "VAR document <- Xe.LoadString(test);"
   ]
  },
  {
   "cell_type": "code",
   "execution_count": null,
   "metadata": {
    "scrolled": false
   },
   "outputs": [],
   "source": [
    "Xe.Expand(document);"
   ]
  },
  {
   "cell_type": "code",
   "execution_count": null,
   "metadata": {},
   "outputs": [],
   "source": [
    "VAR test <- File.Open(\"utils.xe\", File.Flag.Read);"
   ]
  },
  {
   "cell_type": "code",
   "execution_count": null,
   "metadata": {},
   "outputs": [],
   "source": [
    "Xe.Decode(test);"
   ]
  },
  {
   "cell_type": "code",
   "execution_count": null,
   "metadata": {},
   "outputs": [],
   "source": [
    "test:close;"
   ]
  },
  {
   "cell_type": "code",
   "execution_count": null,
   "metadata": {},
   "outputs": [],
   "source": [
    "Xe.Defines:size;"
   ]
  },
  {
   "cell_type": "code",
   "execution_count": null,
   "metadata": {},
   "outputs": [],
   "source": []
  }
 ],
 "metadata": {
  "kernelspec": {
   "display_name": "Wrapl",
   "language": "wrapl",
   "name": "wrapl"
  },
  "language_info": {
   "file_extension": ".wrapl",
   "mimetype": "text/x-wrapl",
   "name": "wrapl",
   "version": "0.0.0"
  }
 },
 "nbformat": 4,
 "nbformat_minor": 2
}
